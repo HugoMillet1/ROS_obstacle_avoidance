{
 "cells": [
  {
   "cell_type": "markdown",
   "metadata": {},
   "source": [
    "# Assigment 1 : Obstacle avoidance and  Motion Planning - Hugo Millet"
   ]
  },
  {
   "cell_type": "markdown",
   "metadata": {},
   "source": [
    "The objective of this notebook is to develop parts of the code that needs further explanations"
   ]
  },
  {
   "cell_type": "markdown",
   "metadata": {},
   "source": [
    "## Part 1 : Creating the occupancy map"
   ]
  },
  {
   "cell_type": "markdown",
   "metadata": {},
   "source": [
    "In my code, the occupancy grid is stored in the variable initgrid. Its parameters are resolution, and size, which are explained in the commentaries of the code.\n",
    "Each cell can have 3 values, 0 if it's free, 1 if it's an obstacle, and -1 if there is the robot in that cell"
   ]
  },
  {
   "cell_type": "markdown",
   "metadata": {},
   "source": [
    "The occupancy grid is therefore modified in the two callbacks from the suscribers to Odometry and Scan. The odometry one fills the position of the robot and the scan one the position of the obstacles."
   ]
  },
  {
   "cell_type": "markdown",
   "metadata": {},
   "source": [
    "#### 1.1. Filling the position of the robot in the occupancy grid"
   ]
  },
  {
   "cell_type": "markdown",
   "metadata": {},
   "source": [
    "The part of the code responsible for this operation is shown below :"
   ]
  },
  {
   "cell_type": "code",
   "execution_count": null,
   "metadata": {},
   "outputs": [],
   "source": [
    "xpos = odom.pose.pose.position.x  # get the X measurement in m of the robot pos\n",
    "ypos = odom.pose.pose.position.y  # get the Y measurement in m of the robot pos\n",
    "yaw = quater_to_euler(odom.pose.pose.orientation)[2] # get the yaw in radian of the robot\n",
    "\n",
    "# get the X coordinate of the cell where the robot is\n",
    "cellX = int((resolution-1)/2) + int(xpos/size)\n",
    "# get the Y coordinate of the cell where the robot is\n",
    "cellY = int((resolution-1)/2) + int(ypos/size)\n",
    "\n",
    "reset_robot_pos(initgrid) # removing the previous robot pos\n",
    "initgrid[cellX, cellY] = -1 # setting the robot pos in the cell"
   ]
  },
  {
   "cell_type": "markdown",
   "metadata": {},
   "source": [
    "Basically, what it is doing is get the positions in meters of the robot from the Odometry msg, and converting it in terms of cell number, which depends on the size of the cell.\n",
    "For practical reasons, I also chose to set the [0,0] odometry point in the center of my grid, which is why I also had the term int((resolution-1)/2). I usually chose resolutions values to be odd, to have a cell perfectly in the center and this explains the presence of the -1. "
   ]
  },
  {
   "cell_type": "markdown",
   "metadata": {},
   "source": [
    "#### 1.2. Filling the position of the obstacles in the occupancy grid"
   ]
  },
  {
   "cell_type": "markdown",
   "metadata": {},
   "source": [
    "The part of the code responsible for this operation is shown below :"
   ]
  },
  {
   "cell_type": "code",
   "execution_count": null,
   "metadata": {},
   "outputs": [],
   "source": [
    "    ranges = scan.ranges\n",
    "    for i in range(len(ranges)):\n",
    "        if ranges[i] < scan.range_max:\n",
    "            angle_wf = yaw + i*scan.angle_increment # angle of the range in the world frame\n",
    "            while(angle_wf > math.pi*2): # keeping values in the [0, 2pi]\n",
    "                angle_wf -= math.pi*2\n",
    "            dx_bot_to_range = ranges[i]*math.cos(angle_wf) # distance in x from the robot to the obstacle in m \n",
    "            dy_bot_to_range = ranges[i]*math.sin(angle_wf) # distance in y from the robot to the obstacle in m\n",
    "\n",
    "            cell_X_obstacle = cellX+int(dx_bot_to_range/size) # X coordinate of the obstacle\n",
    "            cell_Y_obstacle = cellY+int(dy_bot_to_range/size) # Y coordinate of the obstacle\n",
    "            if cell_X_obstacle < resolution and cell_Y_obstacle < resolution: # if the obstacle is not out of the grid\n",
    "                initgrid[cell_X_obstacle, cell_Y_obstacle] = 1 # setting the value for the obstacle cell\n"
   ]
  },
  {
   "cell_type": "markdown",
   "metadata": {},
   "source": [
    "First, it's getting the ranges parameter from the LaserScan msg. For each of these values, it is transposing the angle from robot frame to world frame using the yaw value of the robot obtained from Odometry. Them, it is transposing the range value along the X and Y axis of the world frame.\n",
    "Them, as for the robot position, it transpose meters value into numbered cells value and set the value to 1."
   ]
  },
  {
   "cell_type": "markdown",
   "metadata": {},
   "source": [
    "## Part 2 : Creating the field map"
   ]
  },
  {
   "cell_type": "markdown",
   "metadata": {},
   "source": [
    "The field map has the same X and Y dimensions as the occupancy one, but each of its cells will contains two values : one for the field in X and one for the field in Y.\n",
    "My first try to code this was to fill the entire map with values but a big drawback from this method was the calculating power it was demanding and therefore was making the program very slow to execute.\n",
    "The new and final approach I went with was to fill only the grid in which the robot is currently, which is much quicker.\n",
    "For this, I created two functions called create_att_field() and create_rep_field(mygrid), this last one taking the initgrid as a parameter cause we will need the positions of the obstacles."
   ]
  },
  {
   "cell_type": "markdown",
   "metadata": {},
   "source": [
    "#### 2.1. Creating the attractive field"
   ]
  },
  {
   "cell_type": "markdown",
   "metadata": {},
   "source": [
    "The function is shown below :"
   ]
  },
  {
   "cell_type": "code",
   "execution_count": null,
   "metadata": {},
   "outputs": [],
   "source": [
    "def create_att_field():\n",
    "    global cellgX\n",
    "    global cellgY\n",
    "    global att_field_grid\n",
    "\n",
    "    goalx = rospy.get_param(\"/goal_x\")\n",
    "    goaly = rospy.get_param(\"/goal_y\")\n",
    "\n",
    "    # Converting goal parameters from meters to cells number\n",
    "    cellgX = int((resolution-1)/2) + int(goalx/size)\n",
    "    cellgY = int((resolution-1)/2) + int(goaly/size)\n",
    "    \n",
    "    att_field_grid[cellX, cellY, 0] = k_att*(cellgX-cellX) # Attractive field on the x axis is created\n",
    "    att_field_grid[cellX, cellY, 1] = k_att*(cellgY-cellY) # Attractive field on the y axis is created\n",
    "\n",
    "    return att_field_grid"
   ]
  },
  {
   "cell_type": "markdown",
   "metadata": {},
   "source": [
    "We first obtain the goal parameters in meters from the launch file, converting them in number cells, and filling the cell in which the robot is with the mathematical formula of the attractive field, before returning the grid."
   ]
  },
  {
   "cell_type": "markdown",
   "metadata": {},
   "source": [
    "#### 2.2. Creating the repulsive field"
   ]
  },
  {
   "cell_type": "markdown",
   "metadata": {},
   "source": [
    "The function is shown below :"
   ]
  },
  {
   "cell_type": "code",
   "execution_count": null,
   "metadata": {},
   "outputs": [],
   "source": [
    "def create_rep_field(mygrid):\n",
    "    global cellX\n",
    "    global cellY\n",
    "    global rep_field_grid\n",
    "\n",
    "    fieldX = 0\n",
    "    fieldY = 0\n",
    "\n",
    "    for a in range(-Qlim, Qlim+1):\n",
    "        for b in range(-Qlim, Qlim+1):\n",
    "            # checking in the Qlim*Qlim square around the cell\n",
    "            dcell = math.sqrt(a**2+b**2) # calculating the distance in terms of cells from the supposed obstacle cell\n",
    "            if cellX+a >= 0 and cellY+b >= 0 and cellX+a < resolution and cellY+b < resolution:\n",
    "            #if the checked cell is still in the grid\n",
    "                if dcell < Qlim and dcell != 0 and mygrid[cellX+a, cellY+b] == 1:\n",
    "                # eliminating non concerned-cells of the square, the field cell itself and only if an obstacle cell is detected\n",
    "                    fieldX += k_rep*(((1/dcell)-(1/Qlim))/(dcell**2))*(-a/dcell) # adding the repulsive field emitted from the obstacle cell\n",
    "                    fieldY += k_rep*(((1/dcell)-(1/Qlim))/(dcell**2))*(-b/dcell) # adding the repulsive field emitted from the obstacle cell\n",
    "\n",
    "    rep_field_grid[cellX, cellY, 0] = fieldX # 0 if no obstacle, total field if there is\n",
    "    rep_field_grid[cellX, cellY, 1] = fieldY # 0 if no obstacle, total field if there is\n",
    "\n",
    "    return rep_field_grid"
   ]
  },
  {
   "cell_type": "markdown",
   "metadata": {},
   "source": [
    "This function functions in this way :\n",
    "Around the robot cell, we check all the cells in the square around it, the side of the square being 2xQlim, our limit parameter for the repulsive field.\n",
    "Then, for each cell of this square, we check if that cell is still within the grid limit, and with the second if we check several things :\n",
    "- First, not all the cells in the square are concerned by the repulsive field, some are still too far. We eliminate that one.\n",
    "- Then, we don't check the robot cell itself\n",
    "- Finally, we check if there is an obstacle in one of the cell\n",
    "If so, we add the field created by the obstacle cell to the robot cell. If there is multiple obstacle cells in reach, each fields add before being applied."
   ]
  },
  {
   "cell_type": "markdown",
   "metadata": {},
   "source": [
    "Finally, we create the total field with the following line at the end of the scan callback :"
   ]
  },
  {
   "cell_type": "code",
   "execution_count": null,
   "metadata": {},
   "outputs": [],
   "source": [
    "fieldgrid = create_att_field() + create_rep_field(initgrid) # creating field"
   ]
  },
  {
   "cell_type": "markdown",
   "metadata": {},
   "source": [
    "## Part 3 : Commanding the robot"
   ]
  },
  {
   "cell_type": "markdown",
   "metadata": {},
   "source": [
    "Since commanding the robot is directly dependant of its position, it makes more sense to place this in the odometry callback. "
   ]
  },
  {
   "cell_type": "markdown",
   "metadata": {},
   "source": [
    "There are several steps."
   ]
  },
  {
   "cell_type": "code",
   "execution_count": null,
   "metadata": {},
   "outputs": [],
   "source": [
    "obj_angle_wf = math.atan2(fieldgrid[cellX,cellY,1], fieldgrid[cellX,cellY,0]) # objective angle in the worldframe\n",
    "    if obj_angle_wf < 0:\n",
    "        obj_angle_wf += 2*math.pi\n",
    "    if yaw < 0:\n",
    "        yaw += 2*math.pi  "
   ]
  },
  {
   "cell_type": "markdown",
   "metadata": {},
   "source": [
    "First, we convert the X and Y field values of the cell in term of angle, with the atan2 function. It corresponds to the angle in the world frame in which the robot should move. Originally, the conversion gives us an angle in the [-pi;pi] interval, but for practical reasons I transposed it in the [0;2pi] interval, and did the same to the yaw angle of the robot."
   ]
  },
  {
   "cell_type": "code",
   "execution_count": null,
   "metadata": {},
   "outputs": [],
   "source": [
    "if yaw < obj_angle_wf - 0.1 or yaw > obj_angle_wf + 0.1: # if the yaw is too different than the objective angle\n",
    "        cmd.linear.x = 0 # no linear speed\n",
    "        cmd.angular.z = math.copysign(0.8, obj_angle_wf-yaw) # rotating in the orientation of the difference"
   ]
  },
  {
   "cell_type": "markdown",
   "metadata": {},
   "source": [
    "Then, if our robot yaw orientation is not the same as our objective angle with a slight tolerance (here + or - 0.1), we move the robot along the z axis by applying a command on the cmd.angular.z of the Twist message that we publish. The speed is constant but we go to the shorter direction by getting the sign of the difference between our objective angle and our yaw.\n"
   ]
  },
  {
   "cell_type": "code",
   "execution_count": null,
   "metadata": {},
   "outputs": [],
   "source": [
    "else: #if the robot is in the right orientation\n",
    "        cmd.angular.z = 0 # no more angular speed\n",
    "        normF = math.sqrt(fieldgrid[cellX,cellY,1]**2+fieldgrid[cellX,cellY,0]**2) # norm of the field force\n",
    "        if normF < 10 and normF > 0: # if we're close enough from the goal and not at the goal\n",
    "            cmd.linear.x = 0.1 # constant speed\n",
    "        else: # if not\n",
    "            cmd.linear.x = 0.01*normF # linear speed proportional to the norm of the field force"
   ]
  },
  {
   "cell_type": "markdown",
   "metadata": {},
   "source": [
    "Once our robot is in the correct orientation, we can make it move forward.\n",
    "If we are far enough from the goal or at the goal (the else condition), the speed is proportional to the intensity of the field force.\n",
    "If we are close enough of the goal, doing it this way would not be practical cause the speed would decrease a lot and the robot would take a lot of time to reach the goal. Therefore, once it is close enough, we set it to a constant speed."
   ]
  },
  {
   "attachments": {},
   "cell_type": "markdown",
   "metadata": {},
   "source": [
    "## Part 4 : Results and analysis"
   ]
  },
  {
   "cell_type": "markdown",
   "metadata": {},
   "source": [
    "By launching the progam with the goals parameters set, the robot eventually reaches the goal, while avoiding the cylinder shaped-obstacle.\n",
    "I tried with different goal points and some of them worked, others didn't.\n",
    "\n",
    "A remark I noticed during my attempts is that the repulsive field formula may not be optimal : one cell still in the Qlim limit but far from the obstacle will have almost no impact on the total field but the next cell next to it, closer to the obstacle will have a very strong impact. Practically, this cause the robot to go successively closer and further from the obstacle in an almost perpendicular way. I think this is due to the term of the distance to the obstacle, dcells, that is in the cube power at the denominator of the formula, which causes abrupt changes from one cell to another.\n",
    "\n",
    "The attempts that didn't work were either due to this imperfection, that makes the robot blocks with the obstacle, or a similar case but due to the principle of the field method itself : when an obstacle is perfectly perpendicular to the direction of the robot should go to go to the goal, the field of the obstacle would be in the opposite direction of the attracting field, therefore condeming the robot to go back and forth in front of the obstacle endlessly.\n",
    "Another case of failed attempt was because of parasites obstacles on my occupancy map ; sometimes the map is filled with an obstacle cell where there isn't, and since my resolution is pretty low it has a non-neglecting impact if the robot cross the way of this parasite obstacle cell.\n",
    "\n",
    "There are some ameliorations that could improve the program :\n",
    "- Having a better resolution for the map, but we are limited by the virtual machine principle that TheConstruct uses but also the way my code is built\n",
    "- A more precise tuning of the attractive and repulsive fields coefficients\n",
    "- Adjusting the angular speed depending on how much angle we have to move\n"
   ]
  }
 ],
 "metadata": {
  "kernelspec": {
   "display_name": "Python 2",
   "language": "python",
   "name": "python2"
  },
  "language_info": {
   "codemirror_mode": {
    "name": "ipython",
    "version": 2
   },
   "file_extension": ".py",
   "mimetype": "text/x-python",
   "name": "python",
   "nbconvert_exporter": "python",
   "pygments_lexer": "ipython2",
   "version": "2.7.16"
  }
 },
 "nbformat": 4,
 "nbformat_minor": 2
}
