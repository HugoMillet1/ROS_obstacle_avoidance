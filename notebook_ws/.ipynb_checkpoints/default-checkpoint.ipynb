{
 "cells": [
  {
   "cell_type": "markdown",
   "metadata": {},
   "source": [
    "## README\n",
    "\n",
    "This rosject is an existing example of an new environment for using ROSBOT 2.0 Pro. You can use it for your first assigment but also for any projects or work you want to do on the side. \n",
    "\n",
    "To create this rosject, all we had to do was to create a new rosject from scratch and choose noetic for the version of the rosject and an empty world.\n",
    "\n",
    "Installation of Rosbot in your rosject:\n",
    "\n",
    "If you have created an empty ROS Noetic Rosject, you need to install the ROSBOT packages first using the following commands:\n",
    "\n",
    "cd catkin_ws/src\n",
    "\n",
    "git clone https://github.com/husarion/rosbot_ros.git\n",
    "\n",
    "cd ..\n",
    "\n",
    "catkin_make\n",
    "\n",
    "source devel/setup.bash\n",
    "\n",
    "cd catkin_ws/src\n",
    "\n",
    "git clone https://github.com/EC-3DRC/b31ys_launcher.git\n",
    "\n",
    "Now start the simulation in a terminal:\n",
    "\n",
    "roslaunch rosbot_bringup rosbot_rviz.launch\n",
    "\n",
    "Start Teleop in another:\n",
    "\n",
    "rosrun teleop_twist_keyboard tele_keyboard.py\n",
    "\n",
    "In rviz go to Global Options and change the frame of reference to /odom (to be in world frame) or /base_link to be in body frame.\n",
    "\n",
    "You can now create you own packages and start working.\n",
    "\n",
    "Connecting to the real robot:\n",
    "\n",
    "First, close the simulation environment that you have launched\n",
    "\n",
    "Then on a terminal do the following:\n",
    "\n",
    "ssh husarion@master\n",
    "passwd: husarion\n",
    "\n",
    "This will connect you to the robot. Then start the robot base code using the command:\n",
    "\n",
    "roslaunch b31ys_launcher b31ys.launch\n",
    "\n",
    "On a new terminal on the rosject do:\n",
    "\n",
    "roslaunch b31ys_launcher b31ys_rviz.launch\n",
    "\n",
    "You can now work on the real robot.\n"
   ]
  }
 ],
 "metadata": {
  "kernelspec": {
   "display_name": "Python 2",
   "language": "python",
   "name": "python2"
  },
  "language_info": {
   "codemirror_mode": {
    "name": "ipython",
    "version": 2
   },
   "file_extension": ".py",
   "mimetype": "text/x-python",
   "name": "python",
   "nbconvert_exporter": "python",
   "pygments_lexer": "ipython2",
   "version": "2.7.16"
  }
 },
 "nbformat": 4,
 "nbformat_minor": 1
}
